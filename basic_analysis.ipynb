{
 "cells": [
  {
   "cell_type": "markdown",
   "id": "da8ddc9a-d342-47f5-a94d-d86f22ba4857",
   "metadata": {},
   "source": [
    "## load the book"
   ]
  },
  {
   "cell_type": "code",
   "execution_count": 2,
   "id": "35ee4aab-30ac-44cc-b011-58e06921223c",
   "metadata": {},
   "outputs": [],
   "source": [
    "# pandas is used when you have formatted data but here our \n",
    "# data is unstructured text"
   ]
  },
  {
   "cell_type": "code",
   "execution_count": 3,
   "id": "1246bd88-60ea-4500-804e-add806ddfa53",
   "metadata": {},
   "outputs": [],
   "source": [
    "with open(\"miracle_in_the_andes.txt\", \"r\") as file:\n",
    "    book = file.read()"
   ]
  },
  {
   "cell_type": "code",
   "execution_count": 4,
   "id": "3c465e6f-f9bf-4a26-942a-9655518557ff",
   "metadata": {},
   "outputs": [
    {
     "data": {
      "text/plain": [
       "str"
      ]
     },
     "execution_count": 4,
     "metadata": {},
     "output_type": "execute_result"
    }
   ],
   "source": [
    "type(book)"
   ]
  },
  {
   "cell_type": "markdown",
   "id": "dc8b6f6f-1936-400e-9eeb-de25556535f3",
   "metadata": {},
   "source": [
    "## num of chapters in the book"
   ]
  },
  {
   "cell_type": "code",
   "execution_count": 5,
   "id": "59430e6a-2c00-41e8-a377-ef18a32b06fc",
   "metadata": {},
   "outputs": [
    {
     "data": {
      "text/plain": [
       "11"
      ]
     },
     "execution_count": 5,
     "metadata": {},
     "output_type": "execute_result"
    }
   ],
   "source": [
    "# not true since we know theres only chapters 1-10\n",
    "book.count(\"Chapter\")"
   ]
  },
  {
   "cell_type": "code",
   "execution_count": 6,
   "id": "059e9031-022e-4b39-947a-bd3e35c481c3",
   "metadata": {},
   "outputs": [],
   "source": [
    "import re"
   ]
  },
  {
   "cell_type": "code",
   "execution_count": 7,
   "id": "9cd9209c-59b0-4efd-8ae0-d4739ffc0d0c",
   "metadata": {},
   "outputs": [],
   "source": [
    "pattern = re.compile(\"Chapter [0-9]\")"
   ]
  },
  {
   "cell_type": "code",
   "execution_count": 8,
   "id": "72dfc36b-69db-4f54-b13b-a9779669722c",
   "metadata": {},
   "outputs": [
    {
     "data": {
      "text/plain": [
       "re.compile(r'Chapter [0-9]', re.UNICODE)"
      ]
     },
     "execution_count": 8,
     "metadata": {},
     "output_type": "execute_result"
    }
   ],
   "source": [
    "pattern"
   ]
  },
  {
   "cell_type": "code",
   "execution_count": 9,
   "id": "98da8e5d-9831-4244-ae59-b8ffd03c9607",
   "metadata": {},
   "outputs": [
    {
     "data": {
      "text/plain": [
       "['Chapter 1',\n",
       " 'Chapter 2',\n",
       " 'Chapter 3',\n",
       " 'Chapter 4',\n",
       " 'Chapter 5',\n",
       " 'Chapter 6',\n",
       " 'Chapter 7',\n",
       " 'Chapter 8',\n",
       " 'Chapter 9',\n",
       " 'Chapter 1']"
      ]
     },
     "execution_count": 9,
     "metadata": {},
     "output_type": "execute_result"
    }
   ],
   "source": [
    "re.findall(pattern, book)"
   ]
  },
  {
   "cell_type": "code",
   "execution_count": 10,
   "id": "92b206fd-492a-4844-9958-cb58492ecceb",
   "metadata": {},
   "outputs": [],
   "source": [
    "# + indicated that there might be more than one digit after the space\n",
    "pattern = re.compile(\"Chapter [0-9]+\")"
   ]
  },
  {
   "cell_type": "code",
   "execution_count": 11,
   "id": "05d5190c-1f0f-4ad2-9a2e-9c8df4d66da3",
   "metadata": {},
   "outputs": [],
   "source": [
    "findings = re.findall(pattern, book)"
   ]
  },
  {
   "cell_type": "code",
   "execution_count": 12,
   "id": "88800061-8e67-491f-844f-bce185882032",
   "metadata": {},
   "outputs": [
    {
     "data": {
      "text/plain": [
       "['Chapter 1',\n",
       " 'Chapter 2',\n",
       " 'Chapter 3',\n",
       " 'Chapter 4',\n",
       " 'Chapter 5',\n",
       " 'Chapter 6',\n",
       " 'Chapter 7',\n",
       " 'Chapter 8',\n",
       " 'Chapter 9',\n",
       " 'Chapter 10']"
      ]
     },
     "execution_count": 12,
     "metadata": {},
     "output_type": "execute_result"
    }
   ],
   "source": [
    "findings"
   ]
  },
  {
   "cell_type": "code",
   "execution_count": 13,
   "id": "b69c9ef0-0921-419c-8a53-6f1b19674a80",
   "metadata": {},
   "outputs": [
    {
     "data": {
      "text/plain": [
       "10"
      ]
     },
     "execution_count": 13,
     "metadata": {},
     "output_type": "execute_result"
    }
   ],
   "source": [
    "len(findings)"
   ]
  },
  {
   "cell_type": "code",
   "execution_count": 14,
   "id": "77c17cad-cd1e-44cf-97fe-fde6ac0cd820",
   "metadata": {},
   "outputs": [
    {
     "data": {
      "text/plain": [
       "['Chapter ab']"
      ]
     },
     "execution_count": 14,
     "metadata": {},
     "output_type": "execute_result"
    }
   ],
   "source": [
    "ex = \"Chapter ab is an example\"\n",
    "new_pattern = re.compile(\"Chapter [a-z]+\")\n",
    "more_findings = re.findall(new_pattern, ex)\n",
    "more_findings"
   ]
  },
  {
   "cell_type": "markdown",
   "id": "f8c6bf90-68c4-45a2-9d00-2048cf47c651",
   "metadata": {},
   "source": [
    "## sentences with \"love\""
   ]
  },
  {
   "cell_type": "code",
   "execution_count": 59,
   "id": "cc473432-e71a-47a0-8114-32d13756ba55",
   "metadata": {},
   "outputs": [
    {
     "data": {
      "text/plain": [
       "['love',\n",
       " 'love',\n",
       " 'love',\n",
       " 'love',\n",
       " 'love',\n",
       " 'love',\n",
       " 'love',\n",
       " 'love',\n",
       " 'love',\n",
       " 'love',\n",
       " 'love',\n",
       " 'love',\n",
       " 'love',\n",
       " 'love',\n",
       " 'love',\n",
       " 'love',\n",
       " 'love',\n",
       " 'love',\n",
       " 'love',\n",
       " 'love']"
      ]
     },
     "execution_count": 59,
     "metadata": {},
     "output_type": "execute_result"
    }
   ],
   "source": [
    "# just love\n",
    "pat = re.compile(\"love\")\n",
    "finds = re.findall(pat, book)\n",
    "finds[:20]"
   ]
  },
  {
   "cell_type": "code",
   "execution_count": 58,
   "id": "ecdb4fac-1f05-4b3f-ac8e-3f38cdecaa9f",
   "metadata": {},
   "outputs": [
    {
     "data": {
      "text/plain": [
       "['passionate love for',\n",
       " 'a love of',\n",
       " 'to love the',\n",
       " 'in love with',\n",
       " 'the love and']"
      ]
     },
     "execution_count": 58,
     "metadata": {},
     "output_type": "execute_result"
    }
   ],
   "source": [
    "# the [] doesnt include spaces so its only getting the words before and after\n",
    "pat = re.compile(\"[a-zA-Z]+ love [a-zA-Z]+\")\n",
    "finds = re.findall(pat, book)\n",
    "finds[:5]"
   ]
  },
  {
   "cell_type": "code",
   "execution_count": 57,
   "id": "6500d8dd-01ab-468f-975c-3971f538ed1e",
   "metadata": {},
   "outputs": [
    {
     "data": {
      "text/plain": [
       "[' and under the guidance of the Christian Brothers we developed a passionate love for the sport that shaped our friendships and our lives',\n",
       " ' playing soccer and sharing a love of motorcycles',\n",
       " ' both of us grew to love the game of rugby with a consuming passion',\n",
       " ' when he met and fell in love with the beautiful daughter of a Chilean diplomat',\n",
       " ' I believe he had a great hunger for the love and comforts of a family that was happy and whole']"
      ]
     },
     "execution_count": 57,
     "metadata": {},
     "output_type": "execute_result"
    }
   ],
   "source": [
    "# includes spaces now, but is stopping because of commas and other symbols\n",
    "pat = re.compile(\"[a-zA-Z ]+ love [a-zA-Z ]+\")\n",
    "finds = re.findall(pat, book)\n",
    "finds[:5]"
   ]
  },
  {
   "cell_type": "code",
   "execution_count": 56,
   "id": "85dfbecd-3166-402d-8b5b-994e737cc19f",
   "metadata": {},
   "outputs": [
    {
     "data": {
      "text/plain": [
       "[' As a young man, of course, I could not put these things into words, but I knew, and my teammates knew, that there was something special about the game, and under the guidance of the Christian Brothers we developed a passionate love for the sport that shaped our friendships and our lives',\n",
       " ' Guido and I grew up together, playing soccer and sharing a love of motorcycles, cars, and auto racing',\n",
       " ' Under the guidance of the Christian Brothers, both of us grew to love the game of rugby with a consuming passion',\n",
       " ', when he met and fell in love with the beautiful daughter of a Chilean diplomat',\n",
       " ' I believe he had a great hunger for the love and comforts of a family that was happy and whole']"
      ]
     },
     "execution_count": 56,
     "metadata": {},
     "output_type": "execute_result"
    }
   ],
   "source": [
    "# not very sustainable because what if there is a / or } in the text\n",
    "pat = re.compile(\"[a-zA-Z ,]+ love [a-zA-Z ,]+\")\n",
    "finds = re.findall(pat, book)\n",
    "finds[:5]"
   ]
  },
  {
   "cell_type": "code",
   "execution_count": 55,
   "id": "6d2409b6-ac31-4ee3-b0b6-6dc910aa1361",
   "metadata": {},
   "outputs": [
    {
     "data": {
      "text/plain": [
       "[' As a young man, of course, I could not put these things into words, but I knew, and my teammates knew, that there was something special about the game, and under the guidance of the Christian Brothers we developed a passionate love for the sport that shaped our friendships and our lives',\n",
       " ' Guido and I grew up together, playing soccer and sharing a love of motorcycles, cars, and auto racing',\n",
       " ' Under the guidance of the Christian Brothers, both of us grew to love the game of rugby with a consuming passion',\n",
       " ' That rowdiness came to an abrupt end for Guido in 1969, when he met and fell in love with the beautiful daughter of a Chilean diplomat',\n",
       " ' I believe he had a great hunger for the love and comforts of a family that was happy and whole']"
      ]
     },
     "execution_count": 55,
     "metadata": {},
     "output_type": "execute_result"
    }
   ],
   "source": [
    "# goes up till period\n",
    "pat = re.compile(\"[^.]* love [^.]*\")\n",
    "finds = re.findall(pat, book)\n",
    "finds[:5]"
   ]
  },
  {
   "cell_type": "code",
   "execution_count": 20,
   "id": "a2e50258-7ef1-48f1-b3a4-c828ee4cdf18",
   "metadata": {},
   "outputs": [],
   "source": [
    "# include the period at the end\n",
    "# includes spaces now, but is stopping because of commas and other symbols\n",
    "pat = re.compile(\"[^.]* love [^.]*.\")\n",
    "finds = re.findall(pat, book)"
   ]
  },
  {
   "cell_type": "code",
   "execution_count": 21,
   "id": "1555144d-4a96-4b84-9447-e21cf1e446c4",
   "metadata": {},
   "outputs": [
    {
     "data": {
      "text/plain": [
       "49"
      ]
     },
     "execution_count": 21,
     "metadata": {},
     "output_type": "execute_result"
    }
   ],
   "source": [
    "len(finds)"
   ]
  },
  {
   "cell_type": "code",
   "execution_count": 22,
   "id": "fb51e42f-cc8a-41e5-acaa-b27209efb92e",
   "metadata": {},
   "outputs": [],
   "source": [
    "# the one above is not too accurate because what if love has a comma after it"
   ]
  },
  {
   "cell_type": "code",
   "execution_count": 23,
   "id": "1721a559-99e5-4949-a2bb-61122ce2eedc",
   "metadata": {},
   "outputs": [
    {
     "data": {
      "text/plain": [
       "81"
      ]
     },
     "execution_count": 23,
     "metadata": {},
     "output_type": "execute_result"
    }
   ],
   "source": [
    "pat = re.compile(\"[^.]* love[a-zA-Z ,]+[^.]*.\")\n",
    "finds = re.findall(pat, book)\n",
    "len(finds)"
   ]
  },
  {
   "cell_type": "code",
   "execution_count": 54,
   "id": "71ca8470-9f10-4eaf-8e17-5f1dd7c28622",
   "metadata": {},
   "outputs": [
    {
     "data": {
      "text/plain": [
       "[' As a young man, of course, I could not put these things into words, but I knew, and my teammates knew, that there was something special about the game, and under the guidance of the Christian Brothers we developed a passionate love for the sport that shaped our friendships and our lives.',\n",
       " ' Guido and I grew up together, playing soccer and sharing a love of motorcycles, cars, and auto racing.',\n",
       " ' Under the guidance of the Christian Brothers, both of us grew to love the game of rugby with a consuming passion.',\n",
       " ' That rowdiness came to an abrupt end for Guido in 1969, when he met and fell in love with the beautiful daughter of a Chilean diplomat.',\n",
       " ' I believe he had a great hunger for the love and comforts of a family that was happy and whole.']"
      ]
     },
     "execution_count": 54,
     "metadata": {},
     "output_type": "execute_result"
    }
   ],
   "source": [
    "finds[:5]"
   ]
  },
  {
   "cell_type": "code",
   "execution_count": 25,
   "id": "c0a95dbc-c09a-4f9f-b04a-a19f4d782ff3",
   "metadata": {},
   "outputs": [
    {
     "data": {
      "text/plain": [
       "['This started with a capital letter']"
      ]
     },
     "execution_count": 25,
     "metadata": {},
     "output_type": "execute_result"
    }
   ],
   "source": [
    "# to find a senetence that starts with one capital letter and contains \"with\"\n",
    "ex2 = \"This started with a capital letter\"\n",
    "pat2 = re.compile(\"[A-Z]{1}[^.]* with [a-zA-Z]+[^.]*\")\n",
    "find2 = re.findall(pat2, ex2)\n",
    "find2"
   ]
  },
  {
   "cell_type": "markdown",
   "id": "eb6d6c68-2f95-498d-a820-1b251877288b",
   "metadata": {},
   "source": [
    "## most used words"
   ]
  },
  {
   "cell_type": "code",
   "execution_count": 51,
   "id": "63274afe-4e28-4d2e-9dc9-2af106dc76e3",
   "metadata": {},
   "outputs": [
    {
     "data": {
      "text/plain": [
       "['Chapter',\n",
       " 'Before',\n",
       " 'IT',\n",
       " 'WAS',\n",
       " 'FRIDAY',\n",
       " 'the',\n",
       " 'thirteenth',\n",
       " 'of',\n",
       " 'October',\n",
       " 'We',\n",
       " 'joked',\n",
       " 'about',\n",
       " 'that',\n",
       " 'flying',\n",
       " 'over',\n",
       " 'the',\n",
       " 'Andes',\n",
       " 'on',\n",
       " 'such',\n",
       " 'an',\n",
       " 'unlucky',\n",
       " 'day',\n",
       " 'but',\n",
       " 'young',\n",
       " 'men',\n",
       " 'make',\n",
       " 'those',\n",
       " 'kinds',\n",
       " 'of',\n",
       " 'jokes',\n",
       " 'so',\n",
       " 'easily',\n",
       " 'Our',\n",
       " 'flight',\n",
       " 'had',\n",
       " 'originated',\n",
       " 'one',\n",
       " 'day',\n",
       " 'earlier',\n",
       " 'in',\n",
       " 'Montevideo',\n",
       " 'my',\n",
       " 'hometown',\n",
       " 'its',\n",
       " 'destination',\n",
       " 'Santiago',\n",
       " 'Chile',\n",
       " 'It',\n",
       " 'was',\n",
       " 'a']"
      ]
     },
     "execution_count": 51,
     "metadata": {},
     "output_type": "execute_result"
    }
   ],
   "source": [
    "most = re.compile(\"[a-zA-Z]+\")\n",
    "most_finds = re.findall(most, book)\n",
    "most_finds[:50]"
   ]
  },
  {
   "cell_type": "code",
   "execution_count": 53,
   "id": "7444422e-f76f-4d2e-b97f-4b5081edb102",
   "metadata": {},
   "outputs": [
    {
     "data": {
      "text/plain": [
       "['chapter',\n",
       " 'before',\n",
       " 'it',\n",
       " 'was',\n",
       " 'friday',\n",
       " 'the',\n",
       " 'thirteenth',\n",
       " 'of',\n",
       " 'october',\n",
       " 'we',\n",
       " 'joked',\n",
       " 'about',\n",
       " 'that',\n",
       " 'flying',\n",
       " 'over',\n",
       " 'the',\n",
       " 'andes',\n",
       " 'on',\n",
       " 'such',\n",
       " 'an',\n",
       " 'unlucky',\n",
       " 'day',\n",
       " 'but',\n",
       " 'young',\n",
       " 'men',\n",
       " 'make',\n",
       " 'those',\n",
       " 'kinds',\n",
       " 'of',\n",
       " 'jokes',\n",
       " 'so',\n",
       " 'easily',\n",
       " 'our',\n",
       " 'flight',\n",
       " 'had',\n",
       " 'originated',\n",
       " 'one',\n",
       " 'day',\n",
       " 'earlier',\n",
       " 'in',\n",
       " 'montevideo',\n",
       " 'my',\n",
       " 'hometown',\n",
       " 'its',\n",
       " 'destination',\n",
       " 'santiago',\n",
       " 'chile',\n",
       " 'it',\n",
       " 'was',\n",
       " 'a']"
      ]
     },
     "execution_count": 53,
     "metadata": {},
     "output_type": "execute_result"
    }
   ],
   "source": [
    "most_finds = [i.lower() for i in most_finds]\n",
    "most_finds[:50]"
   ]
  },
  {
   "cell_type": "code",
   "execution_count": 28,
   "id": "4c552d4a-c7c5-4794-b5e8-5b91ee86027a",
   "metadata": {},
   "outputs": [
    {
     "data": {
      "text/plain": [
       "86798"
      ]
     },
     "execution_count": 28,
     "metadata": {},
     "output_type": "execute_result"
    }
   ],
   "source": [
    "len(most_finds)"
   ]
  },
  {
   "cell_type": "code",
   "execution_count": 29,
   "id": "a27338f3-1c29-4177-8b77-ca26706ddb0b",
   "metadata": {},
   "outputs": [
    {
     "name": "stdout",
     "output_type": "stream",
     "text": [
      "the\n",
      "5346\n"
     ]
    }
   ],
   "source": [
    "max = 0\n",
    "max_word = \"\"\n",
    "for word in most_finds:\n",
    "    num = most_finds.count(word)\n",
    "    if num > max:\n",
    "        max = num\n",
    "        max_word = word\n",
    "print(max_word)\n",
    "print(max)"
   ]
  },
  {
   "cell_type": "code",
   "execution_count": 32,
   "id": "741f2512-1606-497e-9101-dcf5db2aee5a",
   "metadata": {},
   "outputs": [],
   "source": [
    "# extract paragraphs where \"love\" was used"
   ]
  },
  {
   "cell_type": "code",
   "execution_count": 49,
   "id": "6c96d40f-d88b-45d5-9ccf-58bc6f3541a0",
   "metadata": {},
   "outputs": [
    {
     "name": "stdout",
     "output_type": "stream",
     "text": [
      "['To me, this is the essence of rugby. No other sport gives you such an intense sense of selflessness and unified purpose. I believe this is why rugby players all over the world feel such a passion for the game and such a feeling of brotherhood. As a young man, of course, I could not put these things into words, but I knew, and my teammates knew, that there was something special about the game, and under the guidance of the Christian Brothers we developed a passionate love for the sport that shaped our friendships and our lives. For eight years we played our hearts out for the Christian Brothers—a brotherhood of young boys with Latin names, playing a game with deep Anglo roots under Uruguay’s sunny skies, and proudly wearing the bright green shamrock on our uniforms. The game became so much a part of our lives, in fact, that when we graduated from Stella Maris at the age of sixteen, many of us could not bear the thought that our playing days were over. Our salvation came in the form of the Old Christians Club, a private rugby team formed in 1965 by previous alumni of the Stella Maris rugby program to give Stella Maris ruggers a chance to continue playing the game after our school years ended.', 'There were others—Alexis Hounie, Gastón Costemalle, Daniel Shaw—all of them great players and all of them my friends. But my oldest friend was Guido Magri. He and I had met on my first day at the Stella Maris School—I was eight years old and Guido was one year older—and we had been inseparable ever since. Guido and I grew up together, playing soccer and sharing a love of motorcycles, cars, and auto racing. When I was fifteen we both had mopeds that we had modified in silly ways—removing the mufflers, turn signals, and fenders—and we would ride them to Las Delicias, a famous ice cream parlor in our neighborhood, where we would drool over the girls from the nearby School Sagrado Corazón, hoping to impress them with our souped-up scooters. Guido was a dependable friend, with a good sense of humor and an easy laugh. He was also an outstanding scrum half, as quick and smart as a fox, with good hands and great courage. Under the guidance of the Christian Brothers, both of us grew to love the game of rugby with a consuming passion. As seasons passed we worked hard to improve our skills, and by the time I was fifteen we had each earned a spot on the Stella Maris First XV, the team’s starting lineup. After graduation, both of us went on to join the Old Christians and spent several happy seasons pursuing the high-octane social life of young rugby players. That rowdiness came to an abrupt end for Guido in 1969, when he met and fell in love with the beautiful daughter of a Chilean diplomat. She was now his fiancée, and he was happy to behave himself for her sake.']\n"
     ]
    }
   ],
   "source": [
    "pattern = re.compile(\"[^\\n]+love[^\\n]+\")\n",
    "finding = re.findall(pattern, book)\n",
    "print(finding[:2])"
   ]
  },
  {
   "cell_type": "code",
   "execution_count": 34,
   "id": "4f613d2c-b6ab-4f08-84e7-a69e9ecb3cb8",
   "metadata": {},
   "outputs": [
    {
     "name": "stdout",
     "output_type": "stream",
     "text": [
      "['Chapter 1\\n\\nBefore', 'Chapter 2\\n\\nEverything Precious', 'Chapter 3\\n\\nA Promise', 'Chapter 4\\n\\nBreathe Once More', 'Chapter 5\\n\\nAbandoned', 'Chapter 6\\n\\nTomb', 'Chapter 7\\n\\nEast', 'Chapter 8\\n\\nThe Opposite of Death', 'Chapter 9\\n\\nI See a Man', 'Chapter 10\\n\\nAfter']\n"
     ]
    }
   ],
   "source": [
    "# chapter titles\n",
    "pattern = re.compile(\"Chapter [0-9]+\\n\\n[A-Za-z]+[^\\n]*\")\n",
    "findings = re.findall(pattern, book)\n",
    "print(findings)"
   ]
  },
  {
   "cell_type": "code",
   "execution_count": 37,
   "id": "4c935c66-45da-42f6-b2ff-62c8b847fdc2",
   "metadata": {},
   "outputs": [
    {
     "name": "stdout",
     "output_type": "stream",
     "text": [
      "Before\n",
      "Everything Precious\n",
      "A Promise\n",
      "Breathe Once More\n",
      "Abandoned\n",
      "Tomb\n",
      "East\n",
      "The Opposite of Death\n",
      "I See a Man\n",
      "After\n"
     ]
    }
   ],
   "source": [
    "updated = []\n",
    "for item in findings:\n",
    "    item = item.split(\"\\n\")[2]\n",
    "    print(item)\n"
   ]
  },
  {
   "cell_type": "code",
   "execution_count": 46,
   "id": "d2a14f15-ec4e-42c2-9676-b81e7ea5a2ae",
   "metadata": {},
   "outputs": [],
   "source": [
    "# function that finds the occurrence of any word\n",
    "def word_count(word):\n",
    "    with open(\"miracle_in_the_andes.txt\", \"r\") as file:\n",
    "        book = file.read()\n",
    "\n",
    "    most = re.compile(word)\n",
    "    most_finds = re.findall(most, book)\n",
    "    return len(most_finds)"
   ]
  },
  {
   "cell_type": "code",
   "execution_count": 47,
   "id": "e395cd15-2966-4502-a3d6-da2e479e06ed",
   "metadata": {},
   "outputs": [
    {
     "name": "stdout",
     "output_type": "stream",
     "text": [
      "6938\n"
     ]
    }
   ],
   "source": [
    "print(word_count(\"the\"))"
   ]
  },
  {
   "cell_type": "code",
   "execution_count": 31,
   "id": "f762ac87-b891-431e-94b1-b99200f40373",
   "metadata": {},
   "outputs": [],
   "source": [
    "# \"the\" is the most common word but we wanna exclude stop words\n",
    "# we will now be using NLP to find \"actual\" words "
   ]
  },
  {
   "cell_type": "code",
   "execution_count": null,
   "id": "63d92a7d-c78f-4809-966a-70f0b3a3147c",
   "metadata": {},
   "outputs": [],
   "source": []
  }
 ],
 "metadata": {
  "kernelspec": {
   "display_name": "Python 3 (ipykernel)",
   "language": "python",
   "name": "python3"
  },
  "language_info": {
   "codemirror_mode": {
    "name": "ipython",
    "version": 3
   },
   "file_extension": ".py",
   "mimetype": "text/x-python",
   "name": "python",
   "nbconvert_exporter": "python",
   "pygments_lexer": "ipython3",
   "version": "3.11.1"
  }
 },
 "nbformat": 4,
 "nbformat_minor": 5
}
